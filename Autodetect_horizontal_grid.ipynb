{
 "cells": [
  {
   "cell_type": "code",
   "execution_count": 1,
   "metadata": {},
   "outputs": [],
   "source": [
    "import numpy as np\n",
    "from pathlib import Path\n",
    "import xarray as xr"
   ]
  },
  {
   "cell_type": "code",
   "execution_count": 2,
   "metadata": {},
   "outputs": [
    {
     "name": "stdout",
     "output_type": "stream",
     "text": [
      "[PosixPath('../xorca_test_data/GYRE/GYRE_5d_00010101_00011230_grid_T.nc'), PosixPath('../xorca_test_data/GYRE/GYRE_5d_00010101_00011230_grid_U.nc'), PosixPath('../xorca_test_data/GYRE/GYRE_5d_00010101_00011230_grid_V.nc'), PosixPath('../xorca_test_data/GYRE/GYRE_5d_00010101_00011230_grid_W.nc'), PosixPath('../xorca_test_data/GYRE/mesh_mask.nc')]\n"
     ]
    }
   ],
   "source": [
    "data_path = Path(\"../xorca_test_data/GYRE/\")\n",
    "print(sorted(data_path.glob(\"*.nc\")))"
   ]
  },
  {
   "cell_type": "code",
   "execution_count": 3,
   "metadata": {},
   "outputs": [],
   "source": [
    "T_files = sorted(data_path.glob(\"*grid_T.nc\"))\n",
    "U_files = sorted(data_path.glob(\"*grid_U.nc\"))\n",
    "V_files = sorted(data_path.glob(\"*grid_V.nc\"))\n",
    "W_files = sorted(data_path.glob(\"*grid_W.nc\"))\n",
    "mesh_files = sorted(data_path.glob(\"m*.nc\"))"
   ]
  },
  {
   "cell_type": "code",
   "execution_count": 4,
   "metadata": {},
   "outputs": [],
   "source": [
    "ds_T = xr.open_mfdataset(T_files, decode_times=False)\n",
    "ds_U = xr.open_mfdataset(U_files, decode_times=False)\n",
    "ds_V = xr.open_mfdataset(V_files, decode_times=False)\n",
    "ds_W = xr.open_mfdataset(W_files, decode_times=False)\n",
    "ds_mesh = xr.open_mfdataset(mesh_files)"
   ]
  },
  {
   "cell_type": "code",
   "execution_count": 5,
   "metadata": {},
   "outputs": [
    {
     "data": {
      "text/plain": [
       "<xarray.Dataset>\n",
       "Dimensions:  (t: 1, x: 32, y: 22, z: 31)\n",
       "Coordinates:\n",
       "    lon_cc   (t, y, x) float32 dask.array<shape=(1, 22, 32), chunksize=(1, 22, 32)>\n",
       "    lon_rc   (t, y, x) float32 dask.array<shape=(1, 22, 32), chunksize=(1, 22, 32)>\n",
       "    lon_cr   (t, y, x) float32 dask.array<shape=(1, 22, 32), chunksize=(1, 22, 32)>\n",
       "    lon_rr   (t, y, x) float32 dask.array<shape=(1, 22, 32), chunksize=(1, 22, 32)>\n",
       "    lat_cc   (t, y, x) float32 dask.array<shape=(1, 22, 32), chunksize=(1, 22, 32)>\n",
       "    lat_rc   (t, y, x) float32 dask.array<shape=(1, 22, 32), chunksize=(1, 22, 32)>\n",
       "    lat_cr   (t, y, x) float32 dask.array<shape=(1, 22, 32), chunksize=(1, 22, 32)>\n",
       "    lat_rr   (t, y, x) float32 dask.array<shape=(1, 22, 32), chunksize=(1, 22, 32)>\n",
       "    z_c      (t, z) float64 dask.array<shape=(1, 31), chunksize=(1, 31)>\n",
       "    z_l      (t, z) float64 dask.array<shape=(1, 31), chunksize=(1, 31)>\n",
       "Dimensions without coordinates: t, x, y, z\n",
       "Data variables:\n",
       "    *empty*"
      ]
     },
     "execution_count": 5,
     "metadata": {},
     "output_type": "execute_result"
    }
   ],
   "source": [
    "ds_coords = xr.Dataset()\n",
    "\n",
    "ds_coords.coords[\"lon_cc\"] = ds_mesh.glamt\n",
    "ds_coords.coords[\"lon_rc\"] = ds_mesh.glamu\n",
    "ds_coords.coords[\"lon_cr\"] = ds_mesh.glamv\n",
    "ds_coords.coords[\"lon_rr\"] = ds_mesh.glamf\n",
    "\n",
    "ds_coords.coords[\"lat_cc\"] = ds_mesh.gphit\n",
    "ds_coords.coords[\"lat_rc\"] = ds_mesh.gphiu\n",
    "ds_coords.coords[\"lat_cr\"] = ds_mesh.gphiv\n",
    "ds_coords.coords[\"lat_rr\"] = ds_mesh.gphif\n",
    "\n",
    "ds_coords.coords[\"z_c\"] = ds_mesh.gdept_1d\n",
    "ds_coords.coords[\"z_l\"] = ds_mesh.gdepw_1d\n",
    "\n",
    "ds_coords"
   ]
  },
  {
   "cell_type": "code",
   "execution_count": 6,
   "metadata": {},
   "outputs": [],
   "source": [
    "def arr_is_matching(arr, ref, **kwargs):\n",
    "    return np.allclose(arr, ref, **kwargs)"
   ]
  },
  {
   "cell_type": "code",
   "execution_count": 7,
   "metadata": {},
   "outputs": [],
   "source": [
    "def detect_vertical_grid(ds, ds_coords):\n",
    "    possible_grids = [\"c\", \"l\"]\n",
    "    for pg in possible_grids:\n",
    "        for v in filter(lambda s: s.startswith(\"depth\"), ds.coords.keys()):\n",
    "            if arr_is_matching(ds_coords[f\"z_{pg}\"], ds[v]):\n",
    "                return pg"
   ]
  },
  {
   "cell_type": "code",
   "execution_count": 8,
   "metadata": {},
   "outputs": [],
   "source": [
    "def detect_horizontal_grid(ds, ds_coords):\n",
    "    possible_grids = [\"cc\", \"cr\", \"rc\", \"rr\"]\n",
    "    for pg in possible_grids:\n",
    "        if (arr_is_matching(ds_coords[f\"lon_{pg}\"], ds.nav_lon)\n",
    "            and arr_is_matching(ds_coords[f\"lat_{pg}\"], ds.nav_lat)):\n",
    "            return pg"
   ]
  },
  {
   "cell_type": "code",
   "execution_count": 9,
   "metadata": {},
   "outputs": [
    {
     "name": "stdout",
     "output_type": "stream",
     "text": [
      "GYRE_5d_00010101_00011230_grid_T.nc cc c\n",
      "GYRE_5d_00010101_00011230_grid_U.nc rc c\n",
      "GYRE_5d_00010101_00011230_grid_V.nc cr c\n",
      "GYRE_5d_00010101_00011230_grid_W.nc cc l\n"
     ]
    }
   ],
   "source": [
    "for ds in [ds_T, ds_U, ds_V, ds_W]:\n",
    "    print(str(ds.file_name), detect_horizontal_grid(ds, ds_coords), detect_vertical_grid(ds, ds_coords))"
   ]
  }
 ],
 "metadata": {
  "kernelspec": {
   "display_name": "Python [conda env:xorca_dev]",
   "language": "python",
   "name": "conda-env-xorca_dev-py"
  },
  "language_info": {
   "codemirror_mode": {
    "name": "ipython",
    "version": 3
   },
   "file_extension": ".py",
   "mimetype": "text/x-python",
   "name": "python",
   "nbconvert_exporter": "python",
   "pygments_lexer": "ipython3",
   "version": "3.7.1"
  }
 },
 "nbformat": 4,
 "nbformat_minor": 2
}
