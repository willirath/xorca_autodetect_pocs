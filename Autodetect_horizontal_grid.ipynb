{
 "cells": [
  {
   "cell_type": "code",
   "execution_count": 1,
   "metadata": {},
   "outputs": [],
   "source": [
    "import numpy as np\n",
    "from pathlib import Path\n",
    "import xarray as xr"
   ]
  },
  {
   "cell_type": "code",
   "execution_count": 2,
   "metadata": {},
   "outputs": [
    {
     "name": "stdout",
     "output_type": "stream",
     "text": [
      "[PosixPath('../xorca_test_data/GYRE/GYRE_5d_00010101_00011230_grid_T.nc'), PosixPath('../xorca_test_data/GYRE/GYRE_5d_00010101_00011230_grid_U.nc'), PosixPath('../xorca_test_data/GYRE/GYRE_5d_00010101_00011230_grid_V.nc'), PosixPath('../xorca_test_data/GYRE/GYRE_5d_00010101_00011230_grid_W.nc'), PosixPath('../xorca_test_data/GYRE/mesh_mask.nc')]\n"
     ]
    }
   ],
   "source": [
    "data_path = Path(\"../xorca_test_data/GYRE/\")\n",
    "print(sorted(data_path.glob(\"*.nc\")))"
   ]
  },
  {
   "cell_type": "code",
   "execution_count": 3,
   "metadata": {},
   "outputs": [],
   "source": [
    "T_files = sorted(data_path.glob(\"*grid_T.nc\"))\n",
    "U_files = sorted(data_path.glob(\"*grid_U.nc\"))\n",
    "V_files = sorted(data_path.glob(\"*grid_V.nc\"))\n",
    "W_files = sorted(data_path.glob(\"*grid_W.nc\"))\n",
    "mesh_files = sorted(data_path.glob(\"m*.nc\"))"
   ]
  },
  {
   "cell_type": "code",
   "execution_count": 4,
   "metadata": {},
   "outputs": [
    {
     "name": "stderr",
     "output_type": "stream",
     "text": [
      "/home/wrath/miniconda3_20171008/envs/xorca_env/lib/python3.6/site-packages/xarray/coding/times.py:111: SerializationWarning: Unable to decode time axis into full numpy.datetime64 objects, continuing using dummy netcdftime.datetime objects instead, reason: dates out of range\n",
      "  result = decode_cf_datetime(example_value, units, calendar)\n",
      "/home/wrath/miniconda3_20171008/envs/xorca_env/lib/python3.6/site-packages/xarray/coding/variables.py:66: SerializationWarning: Unable to decode time axis into full numpy.datetime64 objects, continuing using dummy netcdftime.datetime objects instead, reason: dates out of range\n",
      "  return self.func(self.array[key])\n"
     ]
    }
   ],
   "source": [
    "ds_T = xr.open_mfdataset(T_files)\n",
    "ds_U = xr.open_mfdataset(U_files)\n",
    "ds_V = xr.open_mfdataset(V_files)\n",
    "ds_W = xr.open_mfdataset(W_files)\n",
    "ds_mesh = xr.open_mfdataset(mesh_files)"
   ]
  },
  {
   "cell_type": "code",
   "execution_count": 5,
   "metadata": {},
   "outputs": [],
   "source": [
    "def create_coords_ds(mesh_mask, **kwargs):\n",
    "    \"\"\"Create a minimal set of coordinates from a mesh-mask dataset.\n",
    "    This creates `\"central\"` and `\"right\"` grid points for the horizontal grid\n",
    "    and `\"central\"` and `\"left\"` grid points in the vertical.\n",
    "    \"\"\"\n",
    "    mesh_mask = mesh_mask.squeeze()\n",
    "    \n",
    "    N_z = len(mesh_mask.coords[\"z\"])\n",
    "    N_y = len(mesh_mask.coords[\"y\"])\n",
    "    N_x = len(mesh_mask.coords[\"x\"])\n",
    "\n",
    "    coords = {\n",
    "        \"z_c\": ([\"z_c\", ], np.arange(1, N_z + 1),\n",
    "                {\"axis\": \"Z\"}),\n",
    "        \"z_l\": ([\"z_l\", ], np.arange(1, N_z + 1) - 0.5,\n",
    "                {\"axis\": \"Z\", \"c_grid_axis_shift\": - 0.5}),\n",
    "        \"y_c\": ([\"y_c\", ], np.arange(1, N_y + 1),\n",
    "                {\"axis\": \"Y\"}),\n",
    "        \"y_r\": ([\"y_r\", ], np.arange(1, N_y + 1) + 0.5,\n",
    "                {\"axis\": \"Y\", \"c_grid_axis_shift\": 0.5}),\n",
    "        \"x_c\": ([\"x_c\", ], np.arange(1, N_x + 1),\n",
    "                {\"axis\": \"X\"}),\n",
    "        \"x_r\": ([\"x_r\", ], np.arange(1, N_x + 1) + 0.5,\n",
    "                {\"axis\": \"X\", \"c_grid_axis_shift\": 0.5})\n",
    "    }\n",
    "    \n",
    "    coords[\"lon_cc\"] = mesh_mask.glamt.rename({\"y\": \"y_c\", \"x\": \"x_c\"})\n",
    "    coords[\"lon_rc\"] = mesh_mask.glamv.rename({\"y\": \"y_r\", \"x\": \"x_c\"})\n",
    "    coords[\"lon_cr\"] = mesh_mask.glamu.rename({\"y\": \"y_c\", \"x\": \"x_r\"})\n",
    "    coords[\"lon_rr\"] = mesh_mask.glamf.rename({\"y\": \"y_r\", \"x\": \"x_r\"})\n",
    "\n",
    "    coords[\"lat_cc\"] = mesh_mask.gphit.rename({\"y\": \"y_c\", \"x\": \"x_c\"})\n",
    "    coords[\"lat_rc\"] = mesh_mask.gphiv.rename({\"y\": \"y_r\", \"x\": \"x_c\"})\n",
    "    coords[\"lat_cr\"] = mesh_mask.gphiu.rename({\"y\": \"y_c\", \"x\": \"x_r\"})\n",
    "    coords[\"lat_rr\"] = mesh_mask.gphif.rename({\"y\": \"y_r\", \"x\": \"x_r\"})\n",
    "\n",
    "    coords[\"depth_c\"] = mesh_mask.gdept_1d.rename({\"z\": \"z_c\"})\n",
    "    coords[\"depth_l\"] = mesh_mask.gdepw_1d.rename({\"z\": \"z_l\"})\n",
    "    \n",
    "    return xr.Dataset(coords=coords)"
   ]
  },
  {
   "cell_type": "code",
   "execution_count": 6,
   "metadata": {},
   "outputs": [
    {
     "data": {
      "text/plain": [
       "<xarray.Dataset>\n",
       "Dimensions:  (x_c: 32, x_r: 32, y_c: 22, y_r: 22, z_c: 31, z_l: 31)\n",
       "Coordinates:\n",
       "  * z_c      (z_c) int64 1 2 3 4 5 6 7 8 9 10 11 12 13 14 15 16 17 18 19 20 ...\n",
       "  * z_l      (z_l) float64 0.5 1.5 2.5 3.5 4.5 5.5 6.5 7.5 8.5 9.5 10.5 11.5 ...\n",
       "  * y_c      (y_c) int64 1 2 3 4 5 6 7 8 9 10 11 12 13 14 15 16 17 18 19 20 ...\n",
       "  * y_r      (y_r) float64 1.5 2.5 3.5 4.5 5.5 6.5 7.5 8.5 9.5 10.5 11.5 ...\n",
       "  * x_c      (x_c) int64 1 2 3 4 5 6 7 8 9 10 11 12 13 14 15 16 17 18 19 20 ...\n",
       "  * x_r      (x_r) float64 1.5 2.5 3.5 4.5 5.5 6.5 7.5 8.5 9.5 10.5 11.5 ...\n",
       "    lon_cc   (y_c, x_c) float32 dask.array<shape=(22, 32), chunksize=(22, 32)>\n",
       "    lon_rc   (y_r, x_c) float32 dask.array<shape=(22, 32), chunksize=(22, 32)>\n",
       "    lon_cr   (y_c, x_r) float32 dask.array<shape=(22, 32), chunksize=(22, 32)>\n",
       "    lon_rr   (y_r, x_r) float32 dask.array<shape=(22, 32), chunksize=(22, 32)>\n",
       "    lat_cc   (y_c, x_c) float32 dask.array<shape=(22, 32), chunksize=(22, 32)>\n",
       "    lat_rc   (y_r, x_c) float32 dask.array<shape=(22, 32), chunksize=(22, 32)>\n",
       "    lat_cr   (y_c, x_r) float32 dask.array<shape=(22, 32), chunksize=(22, 32)>\n",
       "    lat_rr   (y_r, x_r) float32 dask.array<shape=(22, 32), chunksize=(22, 32)>\n",
       "    depth_c  (z_c) float64 dask.array<shape=(31,), chunksize=(31,)>\n",
       "    depth_l  (z_l) float64 dask.array<shape=(31,), chunksize=(31,)>\n",
       "Data variables:\n",
       "    *empty*"
      ]
     },
     "execution_count": 6,
     "metadata": {},
     "output_type": "execute_result"
    }
   ],
   "source": [
    "ds_coords = create_coords_ds(ds_mesh)\n",
    "ds_coords"
   ]
  },
  {
   "cell_type": "code",
   "execution_count": 7,
   "metadata": {},
   "outputs": [],
   "source": [
    "def _arr_is_matching(arr, ref, **kwargs):\n",
    "    return np.allclose(arr, ref, **kwargs)"
   ]
  },
  {
   "cell_type": "code",
   "execution_count": 8,
   "metadata": {},
   "outputs": [],
   "source": [
    "def _detect_vertical_grid(ds, ds_coords):\n",
    "    possible_grids = [\"c\", \"l\"]\n",
    "    for pg in possible_grids:\n",
    "        for v in filter(lambda s: s.startswith(\"depth\"), ds.coords.keys()):\n",
    "            if _arr_is_matching(ds_coords[f\"depth_{pg}\"], ds[v]):\n",
    "                return pg"
   ]
  },
  {
   "cell_type": "code",
   "execution_count": 9,
   "metadata": {},
   "outputs": [],
   "source": [
    "def _detect_horizontal_grid(ds, ds_coords):\n",
    "    possible_grids = [\"cc\", \"cr\", \"rc\", \"rr\"]\n",
    "    for pg in possible_grids:\n",
    "        if (_arr_is_matching(ds_coords[f\"lon_{pg}\"], ds.nav_lon)\n",
    "            and _arr_is_matching(ds_coords[f\"lat_{pg}\"], ds.nav_lat)):\n",
    "            return pg"
   ]
  },
  {
   "cell_type": "code",
   "execution_count": 11,
   "metadata": {},
   "outputs": [],
   "source": [
    "def do_not_copy_var(varname, additional_vars=None):\n",
    "    var_blacklist = [\"time_counter\", \"time_counter_bnds\", \"nav_lat\", \"nav_lon\",\n",
    "                     \"deptht\", \"depthu\", \"depthv\", \"depthw\", \"depthf\", \"x\", \"y\"]\n",
    "    if additional_vars is not None:\n",
    "        var_blacklist.extend(additional_vars)\n",
    "    return varname in var_blacklist"
   ]
  },
  {
   "cell_type": "code",
   "execution_count": 12,
   "metadata": {},
   "outputs": [],
   "source": [
    "def _maybe_rename(d, rename_dict):\n",
    "    try:\n",
    "        return d.rename(rename_dict)\n",
    "    except ValueError as ve:\n",
    "        return d"
   ]
  },
  {
   "cell_type": "code",
   "execution_count": 13,
   "metadata": {},
   "outputs": [],
   "source": [
    "def _maybe_swap_dim(d, old_dim, new_dim, ds_coords):\n",
    "    try:\n",
    "        d = d.rename({old_dim: new_dim})\n",
    "        d.coords[old_dim] = d.coords[new_dim]\n",
    "        d.coords[new_dim] = ds_coords.coords[new_dim]\n",
    "        return d\n",
    "    except ValueError as ve:\n",
    "        return d"
   ]
  },
  {
   "cell_type": "code",
   "execution_count": 14,
   "metadata": {},
   "outputs": [],
   "source": [
    "def reset_coords(ds, ds_coords):\n",
    "    ds_new = xr.Dataset(coords=ds_coords.coords)\n",
    "    for v in filter(lambda v: not do_not_copy_var(v), ds.data_vars):\n",
    "        v_new = ds[v]\n",
    "        v_new = _maybe_rename(v_new, {\"time_counter\": \"t\"})\n",
    "        v_new = _maybe_rename(v_new, {\"deptht\": f\"depth_{_detect_vertical_grid(v_new, ds_coords)}\"})\n",
    "        v_new = _maybe_rename(v_new, {\"depthu\": f\"depth_{_detect_vertical_grid(v_new, ds_coords)}\"})\n",
    "        v_new = _maybe_rename(v_new, {\"depthv\": f\"depth_{_detect_vertical_grid(v_new, ds_coords)}\"})\n",
    "        v_new = _maybe_rename(v_new, {\"depthw\": f\"depth_{_detect_vertical_grid(v_new, ds_coords)}\"})\n",
    "        v_new = _maybe_rename(v_new, {\"y\": f\"y_{_detect_horizontal_grid(v_new, ds_coords)[0]}\"})\n",
    "        v_new = _maybe_rename(v_new, {\"x\": f\"x_{_detect_horizontal_grid(v_new, ds_coords)[1]}\"})\n",
    "        v_new = _maybe_swap_dim(v_new, \"depth_c\", \"z_c\", ds_coords)\n",
    "        v_new = _maybe_swap_dim(v_new, \"depth_l\", \"z_l\", ds_coords)\n",
    "        try:\n",
    "            v_new = v_new.drop([\"nav_lon\", \"nav_lat\"])\n",
    "        except AttributeErroras as ae:\n",
    "            pass\n",
    "        ds_new[v_new.name] = v_new\n",
    "    return ds_new"
   ]
  },
  {
   "cell_type": "code",
   "execution_count": 15,
   "metadata": {},
   "outputs": [],
   "source": [
    "ds_T_new = reset_coords(ds_T, ds_coords)\n",
    "ds_U_new = reset_coords(ds_U, ds_coords)\n",
    "ds_V_new = reset_coords(ds_V, ds_coords)\n",
    "ds_W_new = reset_coords(ds_W, ds_coords)"
   ]
  },
  {
   "cell_type": "code",
   "execution_count": 16,
   "metadata": {},
   "outputs": [],
   "source": [
    "ds_new = xr.merge((ds_T_new, ds_U_new, ds_V_new, ds_W_new))"
   ]
  },
  {
   "cell_type": "code",
   "execution_count": 17,
   "metadata": {},
   "outputs": [],
   "source": [
    "ds_new.y_c.attrs[\"axis\"] = \"Y\"\n",
    "ds_new.x_c.attrs[\"axis\"] = \"X\""
   ]
  },
  {
   "cell_type": "code",
   "execution_count": 18,
   "metadata": {},
   "outputs": [
    {
     "data": {
      "text/plain": [
       "<xarray.Dataset>\n",
       "Dimensions:   (t: 72, x_c: 32, x_r: 32, y_c: 22, y_r: 22, z_c: 31, z_l: 31)\n",
       "Coordinates:\n",
       "  * x_c       (x_c) int64 1 2 3 4 5 6 7 8 9 10 11 12 13 14 15 16 17 18 19 20 ...\n",
       "  * y_c       (y_c) int64 1 2 3 4 5 6 7 8 9 10 11 12 13 14 15 16 17 18 19 20 ...\n",
       "    depth_c   (z_c) float64 dask.array<shape=(31,), chunksize=(31,)>\n",
       "    depth_l   (z_l) float64 dask.array<shape=(31,), chunksize=(31,)>\n",
       "    lat_cc    (y_c, x_c) float32 dask.array<shape=(22, 32), chunksize=(22, 32)>\n",
       "  * y_r       (y_r) float64 1.5 2.5 3.5 4.5 5.5 6.5 7.5 8.5 9.5 10.5 11.5 ...\n",
       "    lat_rc    (y_r, x_c) float32 dask.array<shape=(22, 32), chunksize=(22, 32)>\n",
       "  * x_r       (x_r) float64 1.5 2.5 3.5 4.5 5.5 6.5 7.5 8.5 9.5 10.5 11.5 ...\n",
       "    lat_cr    (y_c, x_r) float32 dask.array<shape=(22, 32), chunksize=(22, 32)>\n",
       "    lat_rr    (y_r, x_r) float32 dask.array<shape=(22, 32), chunksize=(22, 32)>\n",
       "    lon_cc    (y_c, x_c) float32 dask.array<shape=(22, 32), chunksize=(22, 32)>\n",
       "    lon_rc    (y_r, x_c) float32 dask.array<shape=(22, 32), chunksize=(22, 32)>\n",
       "    lon_cr    (y_c, x_r) float32 dask.array<shape=(22, 32), chunksize=(22, 32)>\n",
       "    lon_rr    (y_r, x_r) float32 dask.array<shape=(22, 32), chunksize=(22, 32)>\n",
       "  * z_c       (z_c) int64 1 2 3 4 5 6 7 8 9 10 11 12 13 14 15 16 17 18 19 20 ...\n",
       "  * z_l       (z_l) float64 0.5 1.5 2.5 3.5 4.5 5.5 6.5 7.5 8.5 9.5 10.5 ...\n",
       "  * t         (t) object    1-01-03 12:00:00    1-01-08 12:00:00 ...\n",
       "Data variables:\n",
       "    votemper  (t, z_c, y_c, x_c) float32 dask.array<shape=(72, 31, 22, 32), chunksize=(72, 31, 22, 32)>\n",
       "    vosaline  (t, z_c, y_c, x_c) float32 dask.array<shape=(72, 31, 22, 32), chunksize=(72, 31, 22, 32)>\n",
       "    sosstsst  (t, y_c, x_c) float32 dask.array<shape=(72, 22, 32), chunksize=(72, 22, 32)>\n",
       "    sosaline  (t, y_c, x_c) float32 dask.array<shape=(72, 22, 32), chunksize=(72, 22, 32)>\n",
       "    sossheig  (t, y_c, x_c) float32 dask.array<shape=(72, 22, 32), chunksize=(72, 22, 32)>\n",
       "    sowaflup  (t, y_c, x_c) float32 dask.array<shape=(72, 22, 32), chunksize=(72, 22, 32)>\n",
       "    sorunoff  (t, y_c, x_c) float32 dask.array<shape=(72, 22, 32), chunksize=(72, 22, 32)>\n",
       "    sosfldow  (t, y_c, x_c) float32 dask.array<shape=(72, 22, 32), chunksize=(72, 22, 32)>\n",
       "    sosst_cd  (t, y_c, x_c) float32 dask.array<shape=(72, 22, 32), chunksize=(72, 22, 32)>\n",
       "    sosss_cd  (t, y_c, x_c) float32 dask.array<shape=(72, 22, 32), chunksize=(72, 22, 32)>\n",
       "    sohefldo  (t, y_c, x_c) float32 dask.array<shape=(72, 22, 32), chunksize=(72, 22, 32)>\n",
       "    soshfldo  (t, y_c, x_c) float32 dask.array<shape=(72, 22, 32), chunksize=(72, 22, 32)>\n",
       "    somixhgt  (t, y_c, x_c) float32 dask.array<shape=(72, 22, 32), chunksize=(72, 22, 32)>\n",
       "    somxl010  (t, y_c, x_c) float32 dask.array<shape=(72, 22, 32), chunksize=(72, 22, 32)>\n",
       "    soicecov  (t, y_c, x_c) float32 dask.array<shape=(72, 22, 32), chunksize=(72, 22, 32)>\n",
       "    sowindsp  (t, y_c, x_c) float32 dask.array<shape=(72, 22, 32), chunksize=(72, 22, 32)>\n",
       "    sohefldp  (t, y_c, x_c) float32 dask.array<shape=(72, 22, 32), chunksize=(72, 22, 32)>\n",
       "    sowafldp  (t, y_c, x_c) float32 dask.array<shape=(72, 22, 32), chunksize=(72, 22, 32)>\n",
       "    sosafldp  (t, y_c, x_c) float32 dask.array<shape=(72, 22, 32), chunksize=(72, 22, 32)>\n",
       "    sobowlin  (y_c, x_c) float32 dask.array<shape=(22, 32), chunksize=(22, 32)>\n",
       "    vozocrtx  (t, z_c, y_c, x_r) float32 dask.array<shape=(72, 31, 22, 32), chunksize=(72, 31, 22, 32)>\n",
       "    sozotaux  (t, y_c, x_r) float32 dask.array<shape=(72, 22, 32), chunksize=(72, 22, 32)>\n",
       "    vomecrty  (t, z_c, y_r, x_c) float32 dask.array<shape=(72, 31, 22, 32), chunksize=(72, 31, 22, 32)>\n",
       "    sometauy  (t, y_r, x_c) float32 dask.array<shape=(72, 22, 32), chunksize=(72, 22, 32)>\n",
       "    vovecrtz  (t, z_l, y_c, x_c) float32 dask.array<shape=(72, 31, 22, 32), chunksize=(72, 31, 22, 32)>\n",
       "    votkeavt  (t, z_l, y_c, x_c) float32 dask.array<shape=(72, 31, 22, 32), chunksize=(72, 31, 22, 32)>\n",
       "    votkeavm  (t, z_l, y_c, x_c) float32 dask.array<shape=(72, 31, 22, 32), chunksize=(72, 31, 22, 32)>"
      ]
     },
     "execution_count": 18,
     "metadata": {},
     "output_type": "execute_result"
    }
   ],
   "source": [
    "ds_new"
   ]
  },
  {
   "cell_type": "code",
   "execution_count": 19,
   "metadata": {},
   "outputs": [],
   "source": [
    "from xgcm import Grid"
   ]
  },
  {
   "cell_type": "code",
   "execution_count": 20,
   "metadata": {},
   "outputs": [],
   "source": [
    "grid = Grid(ds_new, periodic=False)"
   ]
  },
  {
   "cell_type": "code",
   "execution_count": 21,
   "metadata": {},
   "outputs": [
    {
     "data": {
      "text/plain": [
       "<xgcm.Grid>\n",
       "X Axis (not periodic):\n",
       "  * center   x_c (32) --> right\n",
       "  * right    x_r (32) --> center\n",
       "T Axis (not periodic):\n",
       "  * center   t (72)\n",
       "Z Axis (not periodic):\n",
       "  * center   z_c (31) --> left\n",
       "  * left     z_l (31) --> center\n",
       "Y Axis (not periodic):\n",
       "  * center   y_c (22) --> right\n",
       "  * right    y_r (22) --> center"
      ]
     },
     "execution_count": 21,
     "metadata": {},
     "output_type": "execute_result"
    }
   ],
   "source": [
    "grid"
   ]
  },
  {
   "cell_type": "code",
   "execution_count": 22,
   "metadata": {},
   "outputs": [],
   "source": [
    "U_cc = grid.interp(ds_new.vozocrtx, \"X\", to=\"center\", boundary=\"fill\")\n",
    "V_cc = grid.interp(ds_new.vomecrty, \"Y\", to=\"center\", boundary=\"fill\")"
   ]
  },
  {
   "cell_type": "code",
   "execution_count": 23,
   "metadata": {},
   "outputs": [
    {
     "data": {
      "text/plain": [
       "<xarray.DataArray (t: 72, z_c: 31, y_c: 22, x_c: 32)>\n",
       "dask.array<shape=(72, 31, 22, 32), dtype=float32, chunksize=(72, 31, 1, 1)>\n",
       "Coordinates:\n",
       "  * t        (t) object    1-01-03 12:00:00    1-01-08 12:00:00 ...\n",
       "  * z_c      (z_c) int64 1 2 3 4 5 6 7 8 9 10 11 12 13 14 15 16 17 18 19 20 ...\n",
       "  * y_c      (y_c) int64 1 2 3 4 5 6 7 8 9 10 11 12 13 14 15 16 17 18 19 20 ...\n",
       "  * x_c      (x_c) int64 1 2 3 4 5 6 7 8 9 10 11 12 13 14 15 16 17 18 19 20 ..."
      ]
     },
     "execution_count": 23,
     "metadata": {},
     "output_type": "execute_result"
    }
   ],
   "source": [
    "speed = (U_cc ** 2 + V_cc ** 2) ** 0.5\n",
    "speed"
   ]
  },
  {
   "cell_type": "code",
   "execution_count": 24,
   "metadata": {},
   "outputs": [],
   "source": [
    "%matplotlib inline"
   ]
  },
  {
   "cell_type": "code",
   "execution_count": 25,
   "metadata": {},
   "outputs": [
    {
     "data": {
      "image/png": "[encoded data removed]",
      "text/plain": [
       "<Figure size 432x288 with 2 Axes>"
      ]
     },
     "metadata": {},
     "output_type": "display_data"
    }
   ],
   "source": [
    "speed.mean(\"t\").isel(z_c=0).plot();"
   ]
  }
 ],
 "metadata": {
  "kernelspec": {
   "display_name": "Python 3",
   "language": "python",
   "name": "python3"
  },
  "language_info": {
   "codemirror_mode": {
    "name": "ipython",
    "version": 3
   },
   "file_extension": ".py",
   "mimetype": "text/x-python",
   "name": "python",
   "nbconvert_exporter": "python",
   "pygments_lexer": "ipython3",
   "version": "3.6.4"
  }
 },
 "nbformat": 4,
 "nbformat_minor": 2
}
